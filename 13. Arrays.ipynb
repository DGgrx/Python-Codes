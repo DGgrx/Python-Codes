{
 "metadata": {
  "language_info": {
   "codemirror_mode": {
    "name": "ipython",
    "version": 3
   },
   "file_extension": ".py",
   "mimetype": "text/x-python",
   "name": "python",
   "nbconvert_exporter": "python",
   "pygments_lexer": "ipython3",
   "version": "3.9.2"
  },
  "orig_nbformat": 2,
  "kernelspec": {
   "name": "python392jvsc74a57bd0e7d519ed376be589d758c4f93b52b8ad79f3f316dce45964d850679fdbfa14b9",
   "display_name": "Python 3.9.2 64-bit"
  }
 },
 "nbformat": 4,
 "nbformat_minor": 2,
 "cells": [
  {
   "cell_type": "code",
   "execution_count": 24,
   "metadata": {},
   "outputs": [
    {
     "output_type": "stream",
     "name": "stdout",
     "text": [
      "['apple', 'banana', 'cherry']\n"
     ]
    }
   ],
   "source": [
    "#arrays are not defined in python but we can do similar things with a list\n",
    "fruits=[\"apple\",\"banana\",\"cherry\"]\n",
    "print(fruits)"
   ]
  },
  {
   "cell_type": "code",
   "execution_count": 25,
   "metadata": {},
   "outputs": [
    {
     "output_type": "stream",
     "name": "stdout",
     "text": [
      "['hello', 'banana', 'cherry']\n"
     ]
    }
   ],
   "source": [
    "#Modifying data inside an array\n",
    "fruits[0]=\"hello\"\n",
    "print(fruits)"
   ]
  },
  {
   "cell_type": "code",
   "execution_count": 26,
   "metadata": {},
   "outputs": [
    {
     "output_type": "stream",
     "name": "stdout",
     "text": [
      "3\n"
     ]
    }
   ],
   "source": [
    "#length of an array\n",
    "print(len(fruits))\n",
    "\n",
    "#The function len() is used"
   ]
  },
  {
   "cell_type": "code",
   "execution_count": 27,
   "metadata": {},
   "outputs": [
    {
     "output_type": "stream",
     "name": "stdout",
     "text": [
      "hello\nbanana\ncherry\n"
     ]
    }
   ],
   "source": [
    "#Looping through an array\n",
    "for x in fruits:\n",
    "    print(x)"
   ]
  },
  {
   "cell_type": "code",
   "execution_count": 28,
   "metadata": {},
   "outputs": [
    {
     "output_type": "stream",
     "name": "stdout",
     "text": [
      "['hello', 'banana', 'cherry', 'lemon']\n"
     ]
    }
   ],
   "source": [
    "#Appending items to a list\n",
    "fruits.append(\"lemon\")\n",
    "print(fruits)"
   ]
  },
  {
   "cell_type": "code",
   "execution_count": 11,
   "metadata": {},
   "outputs": [
    {
     "output_type": "error",
     "ename": "TypeError",
     "evalue": "list.append() takes exactly one argument (3 given)",
     "traceback": [
      "\u001b[1;31m---------------------------------------------------------------------------\u001b[0m",
      "\u001b[1;31mTypeError\u001b[0m                                 Traceback (most recent call last)",
      "\u001b[1;32m<ipython-input-11-57ee5a42e5bb>\u001b[0m in \u001b[0;36m<module>\u001b[1;34m\u001b[0m\n\u001b[0;32m      1\u001b[0m \u001b[1;31m#Appending multiple strings\u001b[0m\u001b[1;33m\u001b[0m\u001b[1;33m\u001b[0m\u001b[1;33m\u001b[0m\u001b[0m\n\u001b[1;32m----> 2\u001b[1;33m \u001b[0mfruits\u001b[0m\u001b[1;33m.\u001b[0m\u001b[0mappend\u001b[0m\u001b[1;33m(\u001b[0m\u001b[1;34m\"red banana\"\u001b[0m\u001b[1;33m,\u001b[0m\u001b[1;34m\"purple banana\"\u001b[0m\u001b[1;33m,\u001b[0m\u001b[1;34m\"apple\"\u001b[0m\u001b[1;33m)\u001b[0m\u001b[1;33m\u001b[0m\u001b[1;33m\u001b[0m\u001b[0m\n\u001b[0m",
      "\u001b[1;31mTypeError\u001b[0m: list.append() takes exactly one argument (3 given)"
     ]
    }
   ],
   "source": [
    "  #Appending multiple strings\n",
    "  fruits.append(\"red banana\",\"purple banana\",\"apple\")\n",
    "\n",
    "  # append() function accepts only one argument so to do the same thing we would have to write .append() multiple times"
   ]
  },
  {
   "cell_type": "code",
   "execution_count": 30,
   "metadata": {},
   "outputs": [
    {
     "output_type": "stream",
     "name": "stdout",
     "text": [
      "['hello', 'banana', 'cherry']\n"
     ]
    }
   ],
   "source": [
    "#Removing an array element\n",
    "\n",
    "# Using pop()\n",
    "fruits.pop(3)\n",
    "print(fruits)\n",
    "#pop() takes and integer argument\n"
   ]
  },
  {
   "cell_type": "code",
   "execution_count": 31,
   "metadata": {},
   "outputs": [
    {
     "output_type": "stream",
     "name": "stdout",
     "text": [
      "['hello', 'banana']\n"
     ]
    }
   ],
   "source": [
    "#using remove()\n",
    "fruits.remove(\"cherry\")\n",
    "print(fruits)\n",
    "\n",
    "#Takes the specific value you wanna remove"
   ]
  },
  {
   "cell_type": "code",
   "execution_count": 33,
   "metadata": {},
   "outputs": [
    {
     "output_type": "stream",
     "name": "stdout",
     "text": [
      "[]\n"
     ]
    }
   ],
   "source": [
    "#Some inbuilt list functions \n",
    "fruits.clear()\n",
    "#Remove all items from list. \n",
    "print(fruits)"
   ]
  },
  {
   "cell_type": "code",
   "execution_count": 34,
   "metadata": {},
   "outputs": [
    {
     "output_type": "stream",
     "name": "stdout",
     "text": [
      "['guava', 'apple', 'banana', 'mangoes', 'kiwi', 'cherry']\n"
     ]
    }
   ],
   "source": [
    "fruits=[\"guava\",\"apple\",\"banana\",\"mangoes\",\"kiwi\",\"cherry\"]\n",
    "x=fruits.copy()\n",
    "print(x)\n",
    "\n",
    "#Prints a shallow copy of the list"
   ]
  },
  {
   "cell_type": "code",
   "execution_count": 35,
   "metadata": {},
   "outputs": [
    {
     "output_type": "stream",
     "name": "stdout",
     "text": [
      "2\n"
     ]
    }
   ],
   "source": [
    "fruits.append(\"apple\")\n",
    "y=fruits.count(\"apple\")\n",
    "print(y)\n",
    "\n",
    "#Counts the number of occcurances of an element"
   ]
  },
  {
   "cell_type": "code",
   "execution_count": 36,
   "metadata": {},
   "outputs": [
    {
     "output_type": "stream",
     "name": "stdout",
     "text": [
      "['guava', 'apple', 'banana', 'mangoes', 'kiwi', 'cherry', 'apple', 'windows', 'macOS', 'linux']\n"
     ]
    }
   ],
   "source": [
    "os=[\"windows\",\"macOS\",\"linux\"]\n",
    "fruits.extend(os)\n",
    "print(fruits)\n",
    "#extends list by appending elemts from the iterable"
   ]
  },
  {
   "cell_type": "code",
   "execution_count": 38,
   "metadata": {},
   "outputs": [
    {
     "output_type": "stream",
     "name": "stdout",
     "text": [
      "8\n"
     ]
    }
   ],
   "source": [
    "a= fruits.index(\"macOS\")\n",
    "print(a)\n",
    "#Return first index of vale"
   ]
  },
  {
   "cell_type": "code",
   "execution_count": 39,
   "metadata": {},
   "outputs": [
    {
     "output_type": "stream",
     "name": "stdout",
     "text": [
      "['linux', 'macOS', 'windows', 'apple', 'cherry', 'kiwi', 'mangoes', 'banana', 'apple', 'guava']\n"
     ]
    }
   ],
   "source": [
    "fruits.reverse()\n",
    "print(fruits)\n",
    "#reverse *IN PLACE*"
   ]
  },
  {
   "cell_type": "code",
   "execution_count": 40,
   "metadata": {},
   "outputs": [
    {
     "output_type": "stream",
     "name": "stdout",
     "text": [
      "['apple', 'apple', 'banana', 'cherry', 'guava', 'kiwi', 'linux', 'macOS', 'mangoes', 'windows']\n"
     ]
    }
   ],
   "source": [
    "fruits.sort()\n",
    "print(fruits)\n",
    "\n",
    "#Sort the list in ascending order and return None.\n",
    "#\n",
    "#The sort is in-place (i.e. the list itself is modified) and stable (i.e. the\n",
    "#order of two equal elements is maintained).\n",
    "#\n",
    "#If a key function is given, apply it once to each list item and sort them,\n",
    "#ascending or descending, according to their function values.\n",
    "#\n",
    "#The reverse flag can be set to sort in descending order."
   ]
  }
 ]
}