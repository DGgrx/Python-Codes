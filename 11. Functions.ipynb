{
 "metadata": {
  "language_info": {
   "codemirror_mode": {
    "name": "ipython",
    "version": 3
   },
   "file_extension": ".py",
   "mimetype": "text/x-python",
   "name": "python",
   "nbconvert_exporter": "python",
   "pygments_lexer": "ipython3",
   "version": "3.9.2"
  },
  "orig_nbformat": 2,
  "kernelspec": {
   "name": "python392jvsc74a57bd0e7d519ed376be589d758c4f93b52b8ad79f3f316dce45964d850679fdbfa14b9",
   "display_name": "Python 3.9.2 64-bit"
  }
 },
 "nbformat": 4,
 "nbformat_minor": 2,
 "cells": [
  {
   "cell_type": "code",
   "execution_count": 1,
   "metadata": {},
   "outputs": [],
   "source": [
    "#Creating a funtion\n",
    "def myFun():\n",
    "    print(\"hello from a function\")"
   ]
  },
  {
   "cell_type": "code",
   "execution_count": 2,
   "metadata": {},
   "outputs": [
    {
     "output_type": "stream",
     "name": "stdout",
     "text": [
      "hello from a function\n"
     ]
    }
   ],
   "source": [
    "#Calling a function\n",
    "myFun()"
   ]
  },
  {
   "cell_type": "code",
   "execution_count": 5,
   "metadata": {},
   "outputs": [
    {
     "output_type": "stream",
     "name": "stdout",
     "text": [
      "YOLO lego\nLMAO lego\nLOL lego\n"
     ]
    }
   ],
   "source": [
    "#Passing an argument\n",
    "def namFun(bruh):\n",
    "    print(bruh + \" lego\")\n",
    "namFun(\"YOLO\")\n",
    "namFun(\"LMAO\")\n",
    "namFun(\"LOL\")"
   ]
  },
  {
   "cell_type": "code",
   "execution_count": 7,
   "metadata": {},
   "outputs": [
    {
     "output_type": "stream",
     "name": "stdout",
     "text": [
      "hello world\nmy name is chum chum\n"
     ]
    }
   ],
   "source": [
    "#Passing multiple parameters\n",
    "def doub(fname, sname):\n",
    "    print(fname+\" \"+sname)\n",
    "doub(\"hello\",\"world\")\n",
    "doub(\"my name\",\"is chum chum\")"
   ]
  },
  {
   "cell_type": "code",
   "execution_count": 8,
   "metadata": {},
   "outputs": [
    {
     "output_type": "stream",
     "name": "stdout",
     "text": [
      "Youngest chile is lelu\n"
     ]
    }
   ],
   "source": [
    "#Arbitrary Argument\n",
    "def myKid(*kids):\n",
    "    print(\"Youngest chile is \"+ kids[3])\n",
    "myKid(\"helo\",\"helu\",\"lelu\",\"lelu\")"
   ]
  },
  {
   "cell_type": "code",
   "execution_count": 11,
   "metadata": {},
   "outputs": [
    {
     "output_type": "stream",
     "name": "stdout",
     "text": [
      "Youngest chile is bryan\n"
     ]
    }
   ],
   "source": [
    "#Keyword arguments\n",
    "def myPin(chil1, chil2, chil3, chil4):\n",
    "    print(\"Youngest chile is \"+ chil2)\n",
    "myPin(chil1=\"john\",chil2=\"bryan\",chil3=\"josh\",chil4=\"laura\")"
   ]
  },
  {
   "cell_type": "code",
   "execution_count": 15,
   "metadata": {},
   "outputs": [
    {
     "output_type": "stream",
     "name": "stdout",
     "text": [
      "His last name is bahar se bhola\n"
     ]
    }
   ],
   "source": [
    "#Arbitrary Keyword arguments\n",
    "def myHun(**kid):\n",
    "    print(\"His last name is \"+kid[\"lname\"])\n",
    "myHun(fname=\"hola\",lname=\"bahar se bhola\")"
   ]
  },
  {
   "cell_type": "code",
   "execution_count": 17,
   "metadata": {},
   "outputs": [
    {
     "output_type": "stream",
     "name": "stdout",
     "text": [
      "apple\nbanana\ncherry\n"
     ]
    }
   ],
   "source": [
    "#lists , str, tuple , etc as arguments \n",
    "def myFud(fud):\n",
    "    for x in fud:\n",
    "        print(x)\n",
    "\n",
    "fruits=[\"apple\",\"banana\",\"cherry\"]\n",
    "myFud(fruits)"
   ]
  },
  {
   "cell_type": "code",
   "execution_count": 19,
   "metadata": {},
   "outputs": [
    {
     "output_type": "stream",
     "name": "stdout",
     "text": [
      "300\n90\n80\n"
     ]
    }
   ],
   "source": [
    "#Return Statement\n",
    "def hun(x):\n",
    "    return 10*x\n",
    "print(hun(30))\n",
    "print(hun(9))\n",
    "print(hun(8))"
   ]
  },
  {
   "cell_type": "code",
   "execution_count": 20,
   "metadata": {},
   "outputs": [],
   "source": [
    "#pass statment\n",
    "def runt():\n",
    "    pass\n"
   ]
  },
  {
   "cell_type": "code",
   "execution_count": 35,
   "metadata": {},
   "outputs": [
    {
     "output_type": "stream",
     "name": "stdout",
     "text": [
      "Recurssion spelling is wrong\n1\n3\n6\n10\n15\n21\n28\n36\n45\n55\n"
     ]
    },
    {
     "output_type": "execute_result",
     "data": {
      "text/plain": [
       "55"
      ]
     },
     "metadata": {},
     "execution_count": 35
    }
   ],
   "source": [
    "#Recurssion\n",
    "def fact(x):\n",
    "    if x>0:\n",
    "        result=x+fact(x-1)\n",
    "        print(result)\n",
    "    else:\n",
    "        result=0\n",
    "    return result\n",
    "print(\"Recurssion spelling is wrong\")\n",
    "fact(10)"
   ]
  }
 ]
}