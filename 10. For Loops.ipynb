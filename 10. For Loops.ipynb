{
 "metadata": {
  "language_info": {
   "codemirror_mode": {
    "name": "ipython",
    "version": 3
   },
   "file_extension": ".py",
   "mimetype": "text/x-python",
   "name": "python",
   "nbconvert_exporter": "python",
   "pygments_lexer": "ipython3",
   "version": "3.9.2"
  },
  "orig_nbformat": 2,
  "kernelspec": {
   "name": "python392jvsc74a57bd0e7d519ed376be589d758c4f93b52b8ad79f3f316dce45964d850679fdbfa14b9",
   "display_name": "Python 3.9.2 64-bit"
  }
 },
 "nbformat": 4,
 "nbformat_minor": 2,
 "cells": [
  {
   "cell_type": "code",
   "execution_count": 1,
   "metadata": {},
   "outputs": [
    {
     "output_type": "stream",
     "name": "stdout",
     "text": [
      "windows\nmacOS\nlinux\n"
     ]
    }
   ],
   "source": [
    "#For Loop\n",
    "os=[\"windows\",\"macOS\",\"linux\"]\n",
    "for x in os:\n",
    "    print(x)"
   ]
  },
  {
   "cell_type": "code",
   "execution_count": 3,
   "metadata": {},
   "outputs": [
    {
     "output_type": "stream",
     "name": "stdout",
     "text": [
      "w\ni\nn\nd\no\nw\ns\n"
     ]
    }
   ],
   "source": [
    "#Looping through a string\n",
    "for x in \"windows\":\n",
    "    print(x)"
   ]
  },
  {
   "cell_type": "code",
   "execution_count": 4,
   "metadata": {},
   "outputs": [
    {
     "output_type": "stream",
     "name": "stdout",
     "text": [
      "windows\nmacOS\n"
     ]
    }
   ],
   "source": [
    "#Break Statement\n",
    "for x in os:\n",
    "    print(x)\n",
    "    if x==\"macOS\":\n",
    "        break\n"
   ]
  },
  {
   "cell_type": "code",
   "execution_count": 8,
   "metadata": {},
   "outputs": [
    {
     "output_type": "stream",
     "name": "stdout",
     "text": [
      "windows\nlinux\n"
     ]
    }
   ],
   "source": [
    "#Continue Statement\n",
    "for x in os:\n",
    "    if x==\"macOS\":\n",
    "        continue\n",
    "    print(x) \n",
    "\n",
    "#skips the item acc to this logic"
   ]
  },
  {
   "cell_type": "code",
   "execution_count": 9,
   "metadata": {},
   "outputs": [
    {
     "output_type": "stream",
     "name": "stdout",
     "text": [
      "0\n1\n2\n3\n4\n"
     ]
    }
   ],
   "source": [
    "#The range() function\n",
    "for a in range(5):\n",
    "    print(a) "
   ]
  },
  {
   "cell_type": "code",
   "execution_count": 10,
   "metadata": {},
   "outputs": [
    {
     "output_type": "stream",
     "name": "stdout",
     "text": [
      "0\n1\n2\n3\n4\nOut of loop\n"
     ]
    }
   ],
   "source": [
    "for b in range(5):\n",
    "    print(b)\n",
    "else:\n",
    "    print(\"Out of loop\")"
   ]
  },
  {
   "cell_type": "code",
   "execution_count": 12,
   "metadata": {},
   "outputs": [
    {
     "output_type": "stream",
     "name": "stdout",
     "text": [
      "red apple\ntasty apple\njuicy apple\nred banana\ntasty banana\njuicy banana\nred cherry\ntasty cherry\njuicy cherry\n"
     ]
    }
   ],
   "source": [
    "#Nested loops\n",
    "g=[\"apple\",\"banana\",\"cherry\"]\n",
    "h=[\"red\",\"tasty\",\"juicy\"]\n",
    "for x in g:\n",
    "    for y in h:\n",
    "        print(y,x)"
   ]
  },
  {
   "cell_type": "code",
   "execution_count": null,
   "metadata": {},
   "outputs": [],
   "source": [
    "# Pass statement\r\n"
   ]
  }
 ]
}