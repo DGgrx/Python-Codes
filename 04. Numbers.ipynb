{
 "metadata": {
  "language_info": {
   "codemirror_mode": {
    "name": "ipython",
    "version": 3
   },
   "file_extension": ".py",
   "mimetype": "text/x-python",
   "name": "python",
   "nbconvert_exporter": "python",
   "pygments_lexer": "ipython3",
   "version": "3.9.2"
  },
  "orig_nbformat": 2,
  "kernelspec": {
   "name": "python392jvsc74a57bd0e7d519ed376be589d758c4f93b52b8ad79f3f316dce45964d850679fdbfa14b9",
   "display_name": "Python 3.9.2 64-bit"
  }
 },
 "nbformat": 4,
 "nbformat_minor": 2,
 "cells": [
  {
   "cell_type": "code",
   "execution_count": 3,
   "metadata": {},
   "outputs": [
    {
     "output_type": "stream",
     "name": "stdout",
     "text": [
      "1\n<class 'int'>\n12.3\n<class 'float'>\n4j\n<class 'complex'>\n"
     ]
    }
   ],
   "source": [
    "#Python Numbers\n",
    "#int\n",
    "#float\n",
    "#complex\n",
    "\n",
    "a=1\n",
    "print(a)\n",
    "print(type(a))\n",
    "b=12.3\n",
    "print(b)\n",
    "print(type(b))\n",
    "c=4j\n",
    "print(c)\n",
    "print(type(c))"
   ]
  },
  {
   "cell_type": "code",
   "execution_count": 5,
   "metadata": {},
   "outputs": [
    {
     "output_type": "stream",
     "name": "stdout",
     "text": [
      "1\n<class 'int'>\n1273698123812739812739812793\n<class 'int'>\n-827398\n<class 'int'>\n"
     ]
    }
   ],
   "source": [
    "#int\n",
    "d=1\n",
    "e=1273698123812739812739812793\n",
    "f=-827398\n",
    "print(d)\n",
    "print(type(d))\n",
    "print(e)\n",
    "print(type(e))\n",
    "print(f)\n",
    "print(type(f))"
   ]
  },
  {
   "cell_type": "code",
   "execution_count": 6,
   "metadata": {},
   "outputs": [
    {
     "output_type": "stream",
     "name": "stdout",
     "text": [
      "<class 'float'>\n<class 'float'>\n<class 'float'>\n"
     ]
    }
   ],
   "source": [
    "#float\n",
    "g=1.2\n",
    "h=123124513.123128123\n",
    "i=-129836.1233\n",
    "print(type(g))\n",
    "print(type(h))\n",
    "print(type(i))"
   ]
  },
  {
   "cell_type": "code",
   "execution_count": 7,
   "metadata": {},
   "outputs": [
    {
     "output_type": "stream",
     "name": "stdout",
     "text": [
      "<class 'complex'>\n<class 'complex'>\n<class 'complex'>\n"
     ]
    }
   ],
   "source": [
    "#complex\n",
    "j=3+7j\n",
    "k=6j\n",
    "l=-9j\n",
    "print(type(j))\n",
    "print(type(k))\n",
    "print(type(l))"
   ]
  },
  {
   "cell_type": "code",
   "execution_count": 8,
   "metadata": {},
   "outputs": [
    {
     "output_type": "stream",
     "name": "stdout",
     "text": [
      "3700000.0\n<class 'float'>\n4500000000.0\n<class 'float'>\n-7100000000.0\n<class 'float'>\n"
     ]
    }
   ],
   "source": [
    "#scientific convection\n",
    "m=37e5 \n",
    "n=45E8 #does not matter is e or E\n",
    "o=-71e8\n",
    "print(m)\n",
    "print(type(m))\n",
    "print(n)\n",
    "print(type(n))\n",
    "print(o)\n",
    "print(type(o))"
   ]
  },
  {
   "cell_type": "code",
   "execution_count": 10,
   "metadata": {},
   "outputs": [
    {
     "output_type": "stream",
     "name": "stdout",
     "text": [
      "2.0\n<class 'float'>\n33\n<class 'int'>\n(2+0j)\n<class 'complex'>\n"
     ]
    }
   ],
   "source": [
    "#convert from int to float (Data Type Conversion)\n",
    "p= float(2)\n",
    "\n",
    "#convert float to int\n",
    "q=int(33.6)\n",
    "\n",
    "#convert int to complex\n",
    "r=complex(p)\n",
    "\n",
    "print(p)\n",
    "print(type(p))\n",
    "print(q)\n",
    "print(type(q))\n",
    "print(r)\n",
    "print(type(r))"
   ]
  },
  {
   "cell_type": "code",
   "execution_count": 15,
   "metadata": {},
   "outputs": [
    {
     "output_type": "stream",
     "name": "stdout",
     "text": [
      "97\n"
     ]
    }
   ],
   "source": [
    "#Random Numbers\n",
    "\n",
    "import random\n",
    "\n",
    "print(random.randrange(0,100))"
   ]
  },
  {
   "cell_type": "code",
   "execution_count": null,
   "metadata": {},
   "outputs": [],
   "source": []
  },
  {
   "cell_type": "code",
   "execution_count": null,
   "metadata": {},
   "outputs": [],
   "source": []
  }
 ]
}